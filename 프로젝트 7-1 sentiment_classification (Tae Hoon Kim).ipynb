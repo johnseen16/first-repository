{
 "cells": [
  {
   "cell_type": "code",
   "execution_count": 71,
   "id": "planned-shoot",
   "metadata": {},
   "outputs": [
    {
     "data": {
      "text/html": [
       "<div>\n",
       "<style scoped>\n",
       "    .dataframe tbody tr th:only-of-type {\n",
       "        vertical-align: middle;\n",
       "    }\n",
       "\n",
       "    .dataframe tbody tr th {\n",
       "        vertical-align: top;\n",
       "    }\n",
       "\n",
       "    .dataframe thead th {\n",
       "        text-align: right;\n",
       "    }\n",
       "</style>\n",
       "<table border=\"1\" class=\"dataframe\">\n",
       "  <thead>\n",
       "    <tr style=\"text-align: right;\">\n",
       "      <th></th>\n",
       "      <th>id</th>\n",
       "      <th>document</th>\n",
       "      <th>label</th>\n",
       "    </tr>\n",
       "  </thead>\n",
       "  <tbody>\n",
       "    <tr>\n",
       "      <th>0</th>\n",
       "      <td>9976970</td>\n",
       "      <td>아 더빙.. 진짜 짜증나네요 목소리</td>\n",
       "      <td>0</td>\n",
       "    </tr>\n",
       "    <tr>\n",
       "      <th>1</th>\n",
       "      <td>3819312</td>\n",
       "      <td>흠...포스터보고 초딩영화줄....오버연기조차 가볍지 않구나</td>\n",
       "      <td>1</td>\n",
       "    </tr>\n",
       "    <tr>\n",
       "      <th>2</th>\n",
       "      <td>10265843</td>\n",
       "      <td>너무재밓었다그래서보는것을추천한다</td>\n",
       "      <td>0</td>\n",
       "    </tr>\n",
       "    <tr>\n",
       "      <th>3</th>\n",
       "      <td>9045019</td>\n",
       "      <td>교도소 이야기구먼 ..솔직히 재미는 없다..평점 조정</td>\n",
       "      <td>0</td>\n",
       "    </tr>\n",
       "    <tr>\n",
       "      <th>4</th>\n",
       "      <td>6483659</td>\n",
       "      <td>사이몬페그의 익살스런 연기가 돋보였던 영화!스파이더맨에서 늙어보이기만 했던 커스틴 ...</td>\n",
       "      <td>1</td>\n",
       "    </tr>\n",
       "  </tbody>\n",
       "</table>\n",
       "</div>"
      ],
      "text/plain": [
       "         id                                           document  label\n",
       "0   9976970                                아 더빙.. 진짜 짜증나네요 목소리      0\n",
       "1   3819312                  흠...포스터보고 초딩영화줄....오버연기조차 가볍지 않구나      1\n",
       "2  10265843                                  너무재밓었다그래서보는것을추천한다      0\n",
       "3   9045019                      교도소 이야기구먼 ..솔직히 재미는 없다..평점 조정      0\n",
       "4   6483659  사이몬페그의 익살스런 연기가 돋보였던 영화!스파이더맨에서 늙어보이기만 했던 커스틴 ...      1"
      ]
     },
     "execution_count": 71,
     "metadata": {},
     "output_type": "execute_result"
    }
   ],
   "source": [
    "import pandas as pd\n",
    "import urllib.request\n",
    "%matplotlib inline\n",
    "import matplotlib.pyplot as plt\n",
    "import re\n",
    "from konlpy.tag import Okt\n",
    "from tensorflow import keras\n",
    "from tensorflow.keras.preprocessing.text import Tokenizer\n",
    "import numpy as np\n",
    "from tensorflow.keras.preprocessing.sequence import pad_sequences\n",
    "from collections import Counter\n",
    "\n",
    "# 데이터를 읽어봅시다. \n",
    "train_data = pd.read_table('~/aiffel/sentiment_classification/data/ratings_train.txt')\n",
    "test_data = pd.read_table('~/aiffel/sentiment_classification/data/ratings_test.txt')\n",
    "\n",
    "train_data.head()"
   ]
  },
  {
   "cell_type": "code",
   "execution_count": 72,
   "id": "wooden-duplicate",
   "metadata": {},
   "outputs": [],
   "source": [
    "tokenizer = Mecab()\n",
    "stopwords = ['의', '가', '이', '은', '들', '는', '좀', '잘', '걍', '과', '도', '를', '으로', '자', '에', '와', '한', '하다']\n",
    "\n",
    "\n",
    "def load_data(train_data, test_data, num_words=10000):\n",
    "    # data를 train~\n",
    "    train_data.drop_duplicates('document', inplace=True)  # duplication! 재거\n",
    "    train_data = train_data.dropna()  # 결측치 제거 - axis=0 NaN인 행을 제거\n",
    "    X_train = []\n",
    "    for sentence in train_data['document']:\n",
    "        tmp = tokenizer.morphs(sentence)  # 토큰화\n",
    "        tmp = [word for word in tmp if word not in stopwords]  # 불용어 제거\n",
    "        X_train.append(tmp)\n",
    "\n",
    "    # test data\n",
    "    test_data.drop_duplicates('document', inplace=True)  # 중복 제거\n",
    "    test_data = test_data.dropna()  # 결측치 제거 - axis=0 NaN인 행을 제거\n",
    "    X_test = []\n",
    "    for sentence in test_data['document']:\n",
    "        tmp = tokenizer.morphs(sentence)  # 토큰화\n",
    "        tmp = [word for word in tmp if word not in stopwords]  # 불용어 제거\n",
    "        X_test.append(tmp)\n",
    "\n",
    "    # word_to_index 구성\n",
    "    words = list(np.concatenate(X_train))\n",
    "    counter = Counter(words)  # length - 53,961\n",
    "    counter = counter.most_common(num_words - 4)  # 가장 자주 사용되는 단어 순으로 정렬되어 형변환\n",
    "    vocab = ['<PAD>', '<BOS>', '<UNK>', '<UNUSED>'] + [key for key, _ in counter]  # length - 10,000\n",
    "    word_to_index = {word: index for index, word in enumerate(vocab)}  # 형태 - {'the': 4}\n",
    "\n",
    "    # 텍스트로 이루어진 리스트를 인덱스리스트로 변환\n",
    "    def wordlist_to_indexlist(wordlist):\n",
    "        return [word_to_index[word] if word in word_to_index else word_to_index['<UNK>'] for word in wordlist]\n",
    "\n",
    "    X_train = list(map(wordlist_to_indexlist, X_train))\n",
    "    X_test = list(map(wordlist_to_indexlist, X_test))\n",
    "    y_train = np.array(list(train_data['label']))\n",
    "    y_test = np.array(list(test_data['label']))\n",
    "\n",
    "    return X_train, y_train, X_test, y_test, word_to_index\n",
    "\n",
    "\n",
    "X_train, y_train, X_test, y_test, word_to_index = load_data(train_data, test_data)\n",
    "index_to_word = {index: word for word, index in word_to_index.items()}\n",
    "\n",
    "\n",
    "# 문장 1개를 활용할 딕셔너리와 함께 주면, 단어 인덱스 리스트 벡터로 변환해 주는 함수입니다.\n",
    "# 단, 모든 문장은 <BOS>로 시작하는 것으로 합니다.\n",
    "def get_encoded_sentence(sentence, word_to_index):\n",
    "    return [word_to_index['<BOS>']] + [word_to_index[word] if word in word_to_index else word_to_index['<UNK>'] for word\n",
    "                                       in sentence.split()]"
   ]
  },
  {
   "cell_type": "code",
   "execution_count": 73,
   "id": "korean-essence",
   "metadata": {},
   "outputs": [],
   "source": [
    "def get_encoded_sentences(sentences, word_to_index):\n",
    "    return [get_encoded_sentence(sentence, word_to_index) for sentence in sentences]\n",
    "\n",
    "def get_decoded_sentence(encoded_sentence, index_to_word):\n",
    "    return ' '.join(index_to_word[index] if index in index_to_word else '<UNK>' for index in\n",
    "                    encoded_sentence[1:])\n",
    "def get_decoded_sentences(encoded_sentences, index_to_word):\n",
    "    return [get_decoded_sentence(encoded_sentence, index_to_word) for encoded_sentence in encoded_sentences]\n",
    "\n"
   ]
  },
  {
   "cell_type": "code",
   "execution_count": 74,
   "id": "separate-diploma",
   "metadata": {},
   "outputs": [
    {
     "name": "stdout",
     "output_type": "stream",
     "text": [
      "문장길이 평균 :  15.96940191154864\n",
      "문장길이 최대 :  116\n",
      "문장길이 표준편차 :  12.843571191092\n",
      "pad_sequences maxlen :  41\n",
      "전체 문장의 93.42988343341575%가 maxlen 설정값 이내에 포함됩니다.\n"
     ]
    }
   ],
   "source": [
    "# 3. 모델구성을 위한 데이터 분석 및 가공\n",
    "# 3-1. maxlen(문장 최대 길이) 값 찾아내기\n",
    "total_data_text = list(X_train) + list(X_test)\n",
    "num_tokens = [len(tokens) for tokens in total_data_text]  # 각각의 문장 길이를 담은 배열 생성\n",
    "num_tokens = np.array(num_tokens)\n",
    "\n",
    "print('문장길이 평균 : ', np.mean(num_tokens))    # 15.969376315021577\n",
    "print('문장길이 최대 : ', np.max(num_tokens))     # 116\n",
    "print('문장길이 표준편차 : ', np.std(num_tokens))  # 12.843535456326455\n",
    "\n",
    "max_tokens = np.mean(num_tokens) + 2 * np.std(num_tokens)\n",
    "maxlen = int(max_tokens)\n",
    "print('pad_sequences maxlen : ', maxlen)  # 41\n",
    "print(f'전체 문장의 {np.sum(num_tokens < max_tokens) / len(num_tokens)*100}%가 maxlen 설정값 이내에 포함됩니다.')"
   ]
  },
  {
   "cell_type": "code",
   "execution_count": 75,
   "id": "essential-triple",
   "metadata": {},
   "outputs": [
    {
     "name": "stdout",
     "output_type": "stream",
     "text": [
      "(146182, 41) (49157, 41)\n"
     ]
    }
   ],
   "source": [
    "# 3-2. padding 설정\n",
    "x_train = keras.preprocessing.sequence.pad_sequences(X_train, value=word_to_index[\"<PAD>\"], padding='pre', maxlen=maxlen)\n",
    "x_test = keras.preprocessing.sequence.pad_sequences(X_test, value=word_to_index[\"<PAD>\"], padding='pre', maxlen=maxlen)\n",
    "print(x_train.shape, x_test.shape)  # (146182, 41) (49157, 41)\n"
   ]
  },
  {
   "cell_type": "code",
   "execution_count": 76,
   "id": "turkish-combination",
   "metadata": {},
   "outputs": [
    {
     "name": "stdout",
     "output_type": "stream",
     "text": [
      "[   0    0    0    0    0    0    0    0    0    0    0    0    0    0\n",
      "    0    0    0    0    0    0    0    0    0    0    0    0    0    0\n",
      "    0    0    0    0    0   58  821 1695 6141    5  942   65   37]\n",
      "106182\n"
     ]
    }
   ],
   "source": [
    "# 3-3. train set & valid set 분리\n",
    "x_val = x_train[:40000]\n",
    "y_val = y_train[:40000]\n",
    "x_train = x_train[40000:]\n",
    "y_train = y_train[40000:]\n",
    "\n",
    "print(x_train[0])\n",
    "print(len(x_train))"
   ]
  },
  {
   "cell_type": "code",
   "execution_count": 77,
   "id": "british-comfort",
   "metadata": {},
   "outputs": [],
   "source": [
    "# 4. 모델구성 및 훈련\n",
    "\n",
    "vocab_size = 10000    \n",
    "word_vector_dim = 16  "
   ]
  },
  {
   "cell_type": "code",
   "execution_count": 78,
   "id": "multiple-medicaid",
   "metadata": {},
   "outputs": [],
   "source": [
    "# LSTM - loss: 0.3679 - accuracy: 0.8414\n",
    "def model_1():\n",
    "    model = keras.Sequential()\n",
    "    model.add(keras.layers.Embedding(vocab_size, word_vector_dim, input_shape=(None,)))\n",
    "    model.add(keras.layers.LSTM(8))   # LSTM state 벡터의 차원수는 8로 하였습니다! 이게 맞나..\n",
    "    model.add(keras.layers.Dense(8, activation='relu'))\n",
    "    model.add(keras.layers.Dense(1, activation='sigmoid'))  # 긍정/부정?\n",
    "    # 모델 훈련\n",
    "    model.compile(optimizer='adam', loss='binary_crossentropy', metrics=['accuracy'])\n",
    "    history = model.fit(x_train, y_train, epochs=5, batch_size=512, validation_data=(x_val, y_val), verbose=1)\n",
    "    return model, history\n"
   ]
  },
  {
   "cell_type": "code",
   "execution_count": 79,
   "id": "civilian-windsor",
   "metadata": {},
   "outputs": [],
   "source": [
    "# 4-2. Conv1D loss: 0.3563 - accuracy: 0.8471으로 추정된다!\n",
    "def model_2():\n",
    "    model = keras.Sequential()\n",
    "    model.add(keras.layers.Embedding(vocab_size, word_vector_dim, input_shape=(None,)))\n",
    "    model.add(keras.layers.Conv1D(16, 7, activation='relu'))\n",
    "    model.add(keras.layers.MaxPooling1D(5))\n",
    "    model.add(keras.layers.Conv1D(16, 7, activation='relu'))\n",
    "    model.add(keras.layers.GlobalMaxPooling1D())\n",
    "    model.add(keras.layers.Dense(8, activation='relu'))\n",
    "    model.add(keras.layers.Dense(1, activation='sigmoid'))\n",
    "    # 모델 훈련\n",
    "    model.compile(optimizer='adam', loss='binary_crossentropy', metrics=['accuracy'])\n",
    "    history = model.fit(x_train, y_train, epochs=3, batch_size=512, validation_data=(x_val, y_val), verbose=1)\n",
    "    return model, history"
   ]
  },
  {
   "cell_type": "code",
   "execution_count": 81,
   "id": "consecutive-bahrain",
   "metadata": {},
   "outputs": [
    {
     "name": "stdout",
     "output_type": "stream",
     "text": [
      "Epoch 1/3\n",
      "208/208 [==============================] - 2s 7ms/step - loss: 0.6675 - accuracy: 0.6124 - val_loss: 0.5132 - val_accuracy: 0.8063\n",
      "Epoch 2/3\n",
      "208/208 [==============================] - 1s 6ms/step - loss: 0.4649 - accuracy: 0.8251 - val_loss: 0.3879 - val_accuracy: 0.8365\n",
      "Epoch 3/3\n",
      "208/208 [==============================] - 1s 6ms/step - loss: 0.3525 - accuracy: 0.8580 - val_loss: 0.3591 - val_accuracy: 0.8433\n"
     ]
    }
   ],
   "source": [
    "# 4-3. GlobalMaxPooling1D loss: 0.3631 - accuracy: 0.8403!!\n",
    "def model_3():\n",
    "    model = keras.Sequential()\n",
    "    model.add(keras.layers.Embedding(vocab_size, word_vector_dim, input_shape=(None,)))\n",
    "    model.add(keras.layers.GlobalMaxPooling1D())\n",
    "    model.add(keras.layers.Dense(8, activation='relu'))\n",
    "    model.add(keras.layers.Dense(1, activation='sigmoid'))\n",
    "    # 모델 훈련\n",
    "    model.compile(optimizer='adam', loss='binary_crossentropy', metrics=['accuracy'])\n",
    "    history = model.fit(x_train, y_train, epochs=3, batch_size=512, validation_data=(x_val, y_val), verbose=1)\n",
    "    return model, history\n",
    "\n",
    "model, history = model_3()"
   ]
  },
  {
   "cell_type": "code",
   "execution_count": 82,
   "id": "military-clark",
   "metadata": {},
   "outputs": [
    {
     "name": "stdout",
     "output_type": "stream",
     "text": [
      "1537/1537 - 2s - loss: 0.3688 - accuracy: 0.8378\n",
      "result :[0.36881521344184875, 0.8378257155418396]\n"
     ]
    }
   ],
   "source": [
    "results = model.evaluate(x_test,  y_test, verbose=2)\n",
    "print(f'result :{results}')"
   ]
  },
  {
   "cell_type": "code",
   "execution_count": 83,
   "id": "accessory-segment",
   "metadata": {},
   "outputs": [
    {
     "data": {
      "image/png": "[encoded data removed]",
      "text/plain": [
       "<Figure size 432x288 with 1 Axes>"
      ]
     },
     "metadata": {
      "needs_background": "light"
     },
     "output_type": "display_data"
    },
    {
     "data": {
      "image/png": "[encoded data removed]",
      "text/plain": [
       "<Figure size 432x288 with 1 Axes>"
      ]
     },
     "metadata": {
      "needs_background": "light"
     },
     "output_type": "display_data"
    }
   ],
   "source": [
    "def check_training_n_validation_loss(history):\n",
    "    history_dict = history.history\n",
    "    acc = history_dict['accuracy']\n",
    "    val_acc = history_dict['val_accuracy']\n",
    "    loss = history_dict['loss']\n",
    "    val_loss = history_dict['val_loss']\n",
    "\n",
    "    epochs = range(1, len(acc) + 1)\n",
    "\n",
    "    plt.plot(epochs, loss, 'bo', label='Training loss')  # 파란색 점\n",
    "    plt.plot(epochs, val_loss, 'b', label='Validation loss')  # 파란 실선\n",
    "    plt.title('Training and validation loss')\n",
    "    plt.xlabel('Epochs')\n",
    "    plt.ylabel('Loss')\n",
    "    plt.legend()\n",
    "    plt.show()\n",
    "\n",
    "    plt.clf()   # 그림 초기화\n",
    "\n",
    "    plt.plot(epochs, acc, 'bo', label='Training acc')\n",
    "    plt.plot(epochs, val_acc, 'b', label='Validation acc')\n",
    "    plt.title('Training and validation accuracy')\n",
    "    plt.xlabel('Epochs')\n",
    "    plt.ylabel('Accuracy')\n",
    "    plt.legend()\n",
    "    plt.show()\n",
    "\n",
    "\n",
    "check_training_n_validation_loss(history)"
   ]
  },
  {
   "cell_type": "code",
   "execution_count": null,
   "id": "short-single",
   "metadata": {},
   "outputs": [],
   "source": []
  }
 ],
 "metadata": {
  "kernelspec": {
   "display_name": "Python 3",
   "language": "python",
   "name": "python3"
  },
  "language_info": {
   "codemirror_mode": {
    "name": "ipython",
    "version": 3
   },
   "file_extension": ".py",
   "mimetype": "text/x-python",
   "name": "python",
   "nbconvert_exporter": "python",
   "pygments_lexer": "ipython3",
   "version": "3.7.9"
  }
 },
 "nbformat": 4,
 "nbformat_minor": 5
}
