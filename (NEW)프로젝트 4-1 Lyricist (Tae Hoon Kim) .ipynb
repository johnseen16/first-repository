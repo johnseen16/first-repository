{
 "cells": [
  {
   "cell_type": "markdown",
   "id": "bound-roman",
   "metadata": {},
   "source": [
    "## DATA 다운로드"
   ]
  },
  {
   "cell_type": "code",
   "execution_count": 3,
   "id": "electoral-making",
   "metadata": {},
   "outputs": [],
   "source": [
    "# $ wget https://aiffelstaticprd.blob.core.windows.net/media/documents/song_lyrics.zip\n",
    "# $ unzip song_lyrics.zip -d ~/aiffel/lyricist/data/lyrics  #lyrics 폴더에 압축풀기"
   ]
  },
  {
   "cell_type": "markdown",
   "id": "differential-delhi",
   "metadata": {},
   "source": [
    "## DATA 읽어오기"
   ]
  },
  {
   "cell_type": "code",
   "execution_count": 4,
   "id": "heavy-quarter",
   "metadata": {},
   "outputs": [
    {
     "name": "stdout",
     "output_type": "stream",
     "text": [
      "['First Citizen:', 'Before we proceed any further, hear me speak.', '', 'All:', 'Speak, speak.', '', 'First Citizen:', 'You are all resolved rather to die than to famish?', '', 'All:']\n"
     ]
    }
   ],
   "source": [
    "import os, re \n",
    "import numpy as np\n",
    "import tensorflow as tf\n",
    "\n",
    "# 파일을 읽기모드로 열고\n",
    "# 라인 단위로 끊어서 list 형태로 읽어옵니다.\n",
    "file_path = os.getenv('HOME') + '/aiffel/lyricist/data/shakespeare.txt'\n",
    "with open(file_path, \"r\") as f:\n",
    "    raw_corpus = f.read().splitlines()\n",
    "\n",
    "# 앞에서부터 10라인만 화면에 출력해 볼까요?\n",
    "print(raw_corpus[:10])"
   ]
  },
  {
   "cell_type": "markdown",
   "id": "fiscal-cooler",
   "metadata": {},
   "source": [
    "## 데이터 정제하기"
   ]
  },
  {
   "cell_type": "code",
   "execution_count": 5,
   "id": "responsible-knowing",
   "metadata": {},
   "outputs": [
    {
     "name": "stdout",
     "output_type": "stream",
     "text": [
      "Before we proceed any further, hear me speak.\n",
      "Speak, speak.\n",
      "You are all resolved rather to die than to famish?\n",
      "Resolved. resolved.\n",
      "First, you know Caius Marcius is chief enemy to the people.\n"
     ]
    }
   ],
   "source": [
    "for idx, sentence in enumerate(raw_corpus):\n",
    "    if len(sentence) == 0: continue   # 길이가 0인 문장은 건너뜁니다.\n",
    "    if sentence[-1] == \":\": continue  # 문장의 끝이 : 인 문장은 건너뜁니다.\n",
    "\n",
    "    if idx >15: break   # 일단 문장 10개만 확인해 볼 겁니다.\n",
    "        \n",
    "    print(sentence)"
   ]
  },
  {
   "cell_type": "markdown",
   "id": "loving-medicaid",
   "metadata": {},
   "source": [
    "### 특수문자 제거하기"
   ]
  },
  {
   "cell_type": "code",
   "execution_count": 6,
   "id": "greater-perception",
   "metadata": {},
   "outputs": [
    {
     "name": "stdout",
     "output_type": "stream",
     "text": [
      "<start> this is sample sentence . <end>\n"
     ]
    }
   ],
   "source": [
    "def preprocess_sentence(sentence):\n",
    "    sentence = sentence.lower().strip()   \n",
    "    # 패턴의 특수문자를 만나면 특수문자 양쪽에 공백을 추가\n",
    "    sentence = re.sub(r\"([?.!,¿])\", r\" \\1 \", sentence) \n",
    "     # 공백 패턴을 만나면 스페이스 1개로 치환\n",
    "    sentence = re.sub(r'[\" \"]+', \" \", sentence) \n",
    "     # a-zA-Z?.!,¿ 패턴을 제외한 모든 문자(공백문자까지도)를 스페이스 1개로 치환\n",
    "    sentence = re.sub(r\"[^a-zA-Z?.!,¿]+\", \" \", sentence) \n",
    "\n",
    "    sentence = sentence.strip()\n",
    "    # 이전 스텝에서 본 것처럼 문장 앞뒤로 <start>와 <end>를 단어처럼 붙여 줍니다\n",
    "    sentence = '<start> ' + sentence + ' <end>'      \n",
    "    \n",
    "    return sentence\n",
    "\n",
    "# 이 문장이 어떻게 필터링되는지 확인해 보세요.\n",
    "print(preprocess_sentence(\"This @_is ;;;sample        sentence.\"))"
   ]
  },
  {
   "cell_type": "markdown",
   "id": "laughing-hormone",
   "metadata": {},
   "source": [
    "#### 생각보다 특수문자를와 공백을 제거하는게 중요하다. 그래야, 뭔하는 데이터를 추출할수있다.  "
   ]
  },
  {
   "cell_type": "code",
   "execution_count": 7,
   "id": "supreme-latvia",
   "metadata": {},
   "outputs": [
    {
     "data": {
      "text/plain": [
       "['<start> before we proceed any further , hear me speak . <end>',\n",
       " '<start> speak , speak . <end>',\n",
       " '<start> you are all resolved rather to die than to famish ? <end>',\n",
       " '<start> resolved . resolved . <end>',\n",
       " '<start> first , you know caius marcius is chief enemy to the people . <end>',\n",
       " '<start> we know t , we know t . <end>',\n",
       " '<start> let us kill him , and we ll have corn at our own price . <end>',\n",
       " '<start> is t a verdict ? <end>',\n",
       " '<start> no more talking on t let it be done away , away ! <end>',\n",
       " '<start> one word , good citizens . <end>']"
      ]
     },
     "execution_count": 7,
     "metadata": {},
     "output_type": "execute_result"
    }
   ],
   "source": [
    "corpus = []\n",
    "\n",
    "for sentence in raw_corpus:\n",
    "    if len(sentence) == 0: continue\n",
    "    if sentence[-1] == \":\": continue\n",
    "        \n",
    "    corpus.append(preprocess_sentence(sentence))\n",
    "        \n",
    "corpus[:10]"
   ]
  },
  {
   "cell_type": "markdown",
   "id": "surprising-promotion",
   "metadata": {},
   "source": [
    "## 데이터 TOKENIZE"
   ]
  },
  {
   "cell_type": "code",
   "execution_count": 8,
   "id": "senior-eclipse",
   "metadata": {},
   "outputs": [
    {
     "name": "stdout",
     "output_type": "stream",
     "text": [
      "[[   2  143   40 ...    0    0    0]\n",
      " [   2  110    4 ...    0    0    0]\n",
      " [   2   11   50 ...    3    0    0]\n",
      " ...\n",
      " [   2  149 4553 ...    0    0    0]\n",
      " [   2   34   71 ...    3    0    0]\n",
      " [   2  945   34 ...    0    0    0]] <keras_preprocessing.text.Tokenizer object at 0x7f3505f66110>\n"
     ]
    }
   ],
   "source": [
    "def tokenize(corpus):\n",
    "    # 텐서플로우에서 제공하는 Tokenizer 패키지를 생성\n",
    "    tokenizer = tf.keras.preprocessing.text.Tokenizer(\n",
    "        num_words=7000,  # 전체 단어의 개수 \n",
    "        filters=' ',    # 별도로 전처리 로직을 추가할 수 있습니다. 이번에는 사용하지 않겠습니다.\n",
    "        oov_token=\"<unk>\"  # out-of-vocabulary, 사전에 없었던 단어는 어떤 토큰으로 대체할지\n",
    "    )\n",
    "    tokenizer.fit_on_texts(corpus)   # 우리가 구축한 corpus로부터 Tokenizer가 사전을 자동구축하게 됩니다.\n",
    "\n",
    "    # 이후 tokenizer를 활용하여 모델에 입력할 데이터셋을 구축하게 됩니다.\n",
    "    tensor = tokenizer.texts_to_sequences(corpus)   # tokenizer는 구축한 사전으로부터 corpus를 해석해 Tensor로 변환합니다.\n",
    "\t\n",
    "    total_data_text = list(tensor)\n",
    "    num_tokens = [len(tokens) for tokens in total_data_text]\n",
    "    max_tokens = np.mean(num_tokens) + 2 * np.std(num_tokens)\n",
    "    maxlen = int(max_tokens)\n",
    "    # 입력 데이터의 시퀀스 길이를 일정하게 맞추기 위한 padding  메소드를 제공합니다.\n",
    "    # maxlen의 디폴트값은 None입니다. 이 경우 corpus의 가장 긴 문장을 기준으로 시퀀스 길이가 맞춰집니다.\n",
    "    tensor = tf.keras.preprocessing.sequence.pad_sequences(tensor, \n",
    "                                                           padding='post',\n",
    "                                                          maxlen=maxlen)  \n",
    "\n",
    "    print(tensor,tokenizer)\n",
    "    return tensor, tokenizer\n",
    "\n",
    "tensor, tokenizer = tokenize(corpus)"
   ]
  },
  {
   "cell_type": "markdown",
   "id": "representative-tennis",
   "metadata": {},
   "source": [
    "#### 여기서 인제 데이터를 토큰화 시켜서 작업을 해줍니다. \n",
    "#### *중요한점! 문자을 쪼개서 기계가 이해할 수 있는 백터로 변환시켜주는 과정입니다. "
   ]
  },
  {
   "cell_type": "code",
   "execution_count": 9,
   "id": "minute-vector",
   "metadata": {},
   "outputs": [
    {
     "name": "stdout",
     "output_type": "stream",
     "text": [
      "1 : <unk>\n",
      "2 : <start>\n",
      "3 : <end>\n",
      "4 : ,\n",
      "5 : .\n",
      "6 : the\n",
      "7 : and\n",
      "8 : i\n",
      "9 : to\n",
      "10 : of\n"
     ]
    }
   ],
   "source": [
    "for idx in tokenizer.index_word:\n",
    "    print(idx, \":\", tokenizer.index_word[idx])\n",
    "\n",
    "    if idx >= 10: break"
   ]
  },
  {
   "cell_type": "code",
   "execution_count": 10,
   "id": "stunning-limit",
   "metadata": {},
   "outputs": [
    {
     "name": "stdout",
     "output_type": "stream",
     "text": [
      "[  2 143  40 933 140 591   4 124  24 110   5   3   0   0]\n",
      "[143  40 933 140 591   4 124  24 110   5   3   0   0   0]\n"
     ]
    }
   ],
   "source": [
    "# tensor에서 마지막 토큰을 잘라내서 소스 문장을 생성합니다\n",
    "# 마지막 토큰은 <end>가 아니라 <pad>일 가능성이 높습니다.\n",
    "src_input = tensor[:, :-1]  \n",
    "# tensor에서 <start>를 잘라내서 타겟 문장을 생성합니다.\n",
    "tgt_input = tensor[:, 1:]    \n",
    "\n",
    "print(src_input[0])\n",
    "print(tgt_input[0])"
   ]
  },
  {
   "cell_type": "markdown",
   "id": "helpful-selling",
   "metadata": {},
   "source": [
    "## 평가 DATASET 분리하기 "
   ]
  },
  {
   "cell_type": "code",
   "execution_count": 12,
   "id": "motivated-parts",
   "metadata": {},
   "outputs": [],
   "source": [
    "from sklearn.model_selection import train_test_split\n",
    "enc_train, enc_val, dec_train, dec_val = train_test_split(src_input, \n",
    "                                                          tgt_input,\n",
    "                                                          test_size=0.2,\n",
    "                                                          shuffle=True, \n",
    "                                                          random_state=34)"
   ]
  },
  {
   "cell_type": "code",
   "execution_count": 13,
   "id": "smaller-loading",
   "metadata": {},
   "outputs": [
    {
     "name": "stdout",
     "output_type": "stream",
     "text": [
      "Source Train:  (19212, 14)\n",
      "Target Train:  (19212, 14)\n"
     ]
    }
   ],
   "source": [
    "print('Source Train: ', enc_train.shape)\n",
    "print('Target Train: ', dec_train.shape)"
   ]
  },
  {
   "cell_type": "code",
   "execution_count": 14,
   "id": "collected-desire",
   "metadata": {},
   "outputs": [
    {
     "data": {
      "text/plain": [
       "<tf.Tensor: shape=(256, 20, 7001), dtype=float32, numpy=\n",
       "array([[[ 2.5444975e-04, -3.0769927e-05, -6.8083122e-05, ...,\n",
       "          2.9901008e-05,  2.2177410e-04,  4.8661448e-05],\n",
       "        [ 2.9154558e-04, -2.5571664e-04, -3.9993324e-06, ...,\n",
       "          1.3915934e-05,  6.9983036e-04, -3.1352075e-04],\n",
       "        [ 1.3747817e-04, -7.4886269e-04, -4.9894017e-05, ...,\n",
       "         -2.1929319e-04,  1.0886411e-03, -3.5305443e-04],\n",
       "        ...,\n",
       "        [ 2.8578090e-04,  1.1267739e-03, -2.2204621e-03, ...,\n",
       "          2.1895167e-04,  5.9269957e-04,  7.3182891e-04],\n",
       "        [ 5.7582353e-04,  1.5711521e-03, -2.3009535e-03, ...,\n",
       "          1.4861337e-04,  1.7640201e-04,  6.5409456e-04],\n",
       "        [ 7.9996517e-04,  1.9267178e-03, -2.3689021e-03, ...,\n",
       "          6.5577020e-05, -2.3478028e-04,  5.5792974e-04]],\n",
       "\n",
       "       [[ 2.5444975e-04, -3.0769927e-05, -6.8083122e-05, ...,\n",
       "          2.9901008e-05,  2.2177410e-04,  4.8661448e-05],\n",
       "        [ 1.8204842e-04, -4.8926900e-05,  3.4153534e-06, ...,\n",
       "          2.7958873e-05,  3.1590895e-04, -3.3137781e-04],\n",
       "        [ 4.7811063e-04, -1.5022971e-04, -1.2061602e-05, ...,\n",
       "          1.3172203e-04,  1.4955466e-04, -5.7260832e-04],\n",
       "        ...,\n",
       "        [ 1.1738037e-03,  2.9544097e-03, -2.3785713e-03, ...,\n",
       "         -5.5384805e-04, -1.9499527e-03, -1.1679732e-04],\n",
       "        [ 1.1855839e-03,  2.9671378e-03, -2.4557943e-03, ...,\n",
       "         -5.2920496e-04, -2.0579449e-03, -1.5612307e-04],\n",
       "        [ 1.1803575e-03,  2.9618875e-03, -2.5186928e-03, ...,\n",
       "         -4.9004389e-04, -2.1393578e-03, -2.0265426e-04]],\n",
       "\n",
       "       [[ 2.5444975e-04, -3.0769927e-05, -6.8083122e-05, ...,\n",
       "          2.9901008e-05,  2.2177410e-04,  4.8661448e-05],\n",
       "        [ 3.8162566e-04,  1.5204112e-04,  2.3924773e-05, ...,\n",
       "          2.7104828e-04,  3.1882757e-04,  6.8057008e-05],\n",
       "        [ 6.8764627e-04,  1.7150225e-05,  2.2173183e-04, ...,\n",
       "          3.9701213e-04,  2.0499615e-04,  3.1133578e-04],\n",
       "        ...,\n",
       "        [ 9.5052755e-04,  3.0000652e-03, -2.2148346e-03, ...,\n",
       "         -4.3198079e-04, -1.8790485e-03, -2.9080355e-04],\n",
       "        [ 9.5336750e-04,  2.9916945e-03, -2.2955972e-03, ...,\n",
       "         -3.9803551e-04, -1.9894363e-03, -3.4633480e-04],\n",
       "        [ 9.4679062e-04,  2.9725828e-03, -2.3652129e-03, ...,\n",
       "         -3.5336716e-04, -2.0720332e-03, -3.9990383e-04]],\n",
       "\n",
       "       ...,\n",
       "\n",
       "       [[ 2.5444975e-04, -3.0769927e-05, -6.8083122e-05, ...,\n",
       "          2.9901008e-05,  2.2177410e-04,  4.8661448e-05],\n",
       "        [ 3.2106577e-04, -4.2168939e-04, -6.4317173e-05, ...,\n",
       "         -2.0689731e-04,  7.5561262e-04,  2.5803136e-04],\n",
       "        [ 1.9406489e-04, -7.3665415e-04,  7.7244422e-06, ...,\n",
       "         -3.2656730e-04,  1.3266192e-03, -3.1604515e-05],\n",
       "        ...,\n",
       "        [ 1.3607660e-03,  2.5091895e-03, -1.7130106e-03, ...,\n",
       "          2.3648309e-04, -1.0528567e-03, -3.8408831e-04],\n",
       "        [ 1.3688687e-03,  2.6699638e-03, -1.8646303e-03, ...,\n",
       "          7.5697491e-05, -1.2977715e-03, -3.7728838e-04],\n",
       "        [ 1.3545004e-03,  2.7727548e-03, -1.9967400e-03, ...,\n",
       "         -4.4884906e-05, -1.5083475e-03, -3.8119586e-04]],\n",
       "\n",
       "       [[ 2.5444975e-04, -3.0769927e-05, -6.8083122e-05, ...,\n",
       "          2.9901008e-05,  2.2177410e-04,  4.8661448e-05],\n",
       "        [ 3.5521247e-05, -1.1723834e-04, -3.3013459e-04, ...,\n",
       "          1.3371212e-04,  6.3056458e-04, -1.9743288e-04],\n",
       "        [-2.0922119e-04, -2.6850560e-04, -3.2263089e-04, ...,\n",
       "          1.3969997e-04,  7.1497541e-04, -2.9651733e-04],\n",
       "        ...,\n",
       "        [ 1.5770606e-04,  2.2004677e-03, -1.0471749e-03, ...,\n",
       "         -3.5219561e-04, -8.4861321e-04,  2.2196818e-04],\n",
       "        [ 3.0956208e-04,  2.5959008e-03, -1.4272995e-03, ...,\n",
       "         -3.9362686e-04, -1.1419562e-03,  9.1961898e-05],\n",
       "        [ 4.5562157e-04,  2.8898134e-03, -1.7353747e-03, ...,\n",
       "         -4.4208430e-04, -1.4217198e-03, -2.8394139e-05]],\n",
       "\n",
       "       [[ 2.5444975e-04, -3.0769927e-05, -6.8083122e-05, ...,\n",
       "          2.9901008e-05,  2.2177410e-04,  4.8661448e-05],\n",
       "        [ 2.6340646e-04, -2.9233486e-05, -6.4191823e-05, ...,\n",
       "          4.6102071e-04,  3.1597808e-04,  4.5084846e-05],\n",
       "        [ 4.2897122e-04,  5.6864959e-05, -1.4418906e-04, ...,\n",
       "          5.2804977e-04,  3.4339263e-04,  2.6474200e-04],\n",
       "        ...,\n",
       "        [-4.3898381e-05,  6.6968665e-04, -4.4275905e-04, ...,\n",
       "         -8.9042948e-04,  1.2573389e-04,  3.0048093e-04],\n",
       "        [ 1.5410036e-04,  1.1356069e-03, -6.9603499e-04, ...,\n",
       "         -7.8573043e-04,  1.7729984e-05,  2.7617847e-04],\n",
       "        [ 3.4573817e-04,  1.5589735e-03, -9.2840579e-04, ...,\n",
       "         -6.9799280e-04, -1.8699012e-04,  2.3958832e-04]]], dtype=float32)>"
      ]
     },
     "execution_count": 14,
     "metadata": {},
     "output_type": "execute_result"
    }
   ],
   "source": [
    "# 데이터셋에서 데이터 한 배치만 불러오는 방법입니다.\n",
    "# 지금은 동작 원리에 너무 빠져들지 마세요~\n",
    "for src_sample, tgt_sample in dataset.take(1): break\n",
    "\n",
    "# 한 배치만 불러온 데이터를 모델에 넣어봅니다\n",
    "model(src_sample)"
   ]
  },
  {
   "cell_type": "code",
   "execution_count": 14,
   "id": "acquired-terrain",
   "metadata": {},
   "outputs": [
    {
     "name": "stdout",
     "output_type": "stream",
     "text": [
      "Source Train:  (19212, 14)\n",
      "Target Train:  (19212, 14)\n"
     ]
    }
   ],
   "source": [
    "print('Source Train: ', enc_train.shape)\n",
    "print('Target Train: ', dec_train.shape)"
   ]
  },
  {
   "cell_type": "code",
   "execution_count": 15,
   "id": "partial-range",
   "metadata": {},
   "outputs": [],
   "source": [
    "from tensorflow.keras.layers import Embedding, LSTM, Dense\n"
   ]
  },
  {
   "cell_type": "markdown",
   "id": "developing-snake",
   "metadata": {},
   "source": [
    "## Artificial Intelligent 만들기"
   ]
  },
  {
   "cell_type": "markdown",
   "id": "unique-confidence",
   "metadata": {},
   "source": [
    "#### 먼저 MODEL HISTORY 그래프를 만들어 보자.\n",
    "##### * 여기서 모젤이 학습이 잘되기 위해 함수를 졍의해주자!"
   ]
  },
  {
   "cell_type": "code",
   "execution_count": 16,
   "id": "center-clark",
   "metadata": {},
   "outputs": [],
   "source": [
    "def plot_curve(epochs, hist, list_of_metrics):\n",
    "    \n",
    "    fig, ax = plt.subplots(1,2,figsize = (12, 8))\n",
    "    \n",
    "    for i in range(len(ax)):\n",
    "        ax[i].set_xlabel('Epochs')\n",
    "        ax[i].set_ylabel('Value')\n",
    "        \n",
    "        for n in range(len(list_of_metrics)):\n",
    "            if i == 0:\n",
    "                y = hist[list_of_metrics[n]]\n",
    "                if n == 0:\n",
    "                    ax[i].plot(epochs, y, label=\"train\")\n",
    "                else:\n",
    "                    ax[i].plot(epochs, y, label=\"val\")\n",
    "                ax[i].set_title('Loss')\n",
    "                ax[i].legend(loc='upper right')\n",
    "                if n == 1:\n",
    "                    break\n",
    "            else:\n",
    "                if n >= 2:\n",
    "                    y = hist[list_of_metrics[n]]\n",
    "                    if n == 2:\n",
    "                        ax[i].plot(epochs, y, label=\"train\")\n",
    "                    else:\n",
    "                        ax[i].plot(epochs, y, label=\"val\")\n",
    "                    ax[i].set_title('Accuracy')\n",
    "                    ax[i].legend(loc='lower right')\n",
    "                    \n",
    "    plt.show()"
   ]
  },
  {
   "cell_type": "code",
   "execution_count": 18,
   "id": "liked-thriller",
   "metadata": {},
   "outputs": [],
   "source": [
    "class TextGenerator(tf.keras.Model):\n",
    "    def __init__(self, vocab_size, embedding_size, hidden_size):\n",
    "        super(TextGenerator, self).__init__()\n",
    "        \n",
    "        self.embedding = Embedding(vocab_size, embedding_size)\n",
    "        self.rnn_1 = LSTM(hidden_size, return_sequences=True)\n",
    "        self.rnn_2 = LSTM(hidden_size, return_sequences=True)\n",
    "        self.linear = Dense(vocab_size)\n",
    "        \n",
    "    def call(self, x):\n",
    "        out = self.embedding(x)\n",
    "        out = self.rnn_1(out)\n",
    "        out = self.rnn_2(out)\n",
    "        out = self.linear(out)\n",
    "        \n",
    "        return out\n",
    "    \n",
    "embedding_size = 19\n",
    "hidden_size = 2048\n",
    "model = TextGenerator(tokenizer.num_words + 1, embedding_size , hidden_size)\n"
   ]
  },
  {
   "cell_type": "markdown",
   "id": "regional-contact",
   "metadata": {},
   "source": [
    "## 모델 합습하기  "
   ]
  },
  {
   "cell_type": "code",
   "execution_count": 19,
   "id": "mexican-sudan",
   "metadata": {},
   "outputs": [
    {
     "name": "stdout",
     "output_type": "stream",
     "text": [
      "Epoch 1/10\n",
      "76/76 [==============================] - 79s 733ms/step - loss: 5.6331 - val_loss: 4.6904\n",
      "Epoch 2/10\n",
      "76/76 [==============================] - 55s 726ms/step - loss: 4.2746 - val_loss: 4.0546\n",
      "Epoch 3/10\n",
      "76/76 [==============================] - 55s 726ms/step - loss: 3.9649 - val_loss: 3.9528\n",
      "Epoch 4/10\n",
      "76/76 [==============================] - 55s 724ms/step - loss: 3.8205 - val_loss: 3.8249\n",
      "Epoch 5/10\n",
      "76/76 [==============================] - 55s 720ms/step - loss: 3.6521 - val_loss: 3.7519\n",
      "Epoch 6/10\n",
      "76/76 [==============================] - 54s 716ms/step - loss: 3.5345 - val_loss: 3.7239\n",
      "Epoch 7/10\n",
      "76/76 [==============================] - 55s 723ms/step - loss: 3.4324 - val_loss: 3.6991\n",
      "Epoch 8/10\n",
      "76/76 [==============================] - 55s 719ms/step - loss: 3.3197 - val_loss: 3.6961\n",
      "Epoch 9/10\n",
      "76/76 [==============================] - 55s 720ms/step - loss: 3.1986 - val_loss: 3.6930\n",
      "Epoch 10/10\n",
      "76/76 [==============================] - 55s 723ms/step - loss: 3.0664 - val_loss: 3.7281\n"
     ]
    }
   ],
   "source": [
    "history = []\n",
    "epochs = 10\n",
    "\n",
    "optimizer = tf.keras.optimizers.Adam()\n",
    "\n",
    "loss = tf.keras.losses.SparseCategoricalCrossentropy(\n",
    "    from_logits=True,\n",
    "    reduction='none'\n",
    ")\n",
    "\n",
    "model.compile(loss=loss, optimizer=optimizer)\n",
    "\n",
    "history = model.fit(enc_train, \n",
    "          dec_train, \n",
    "          epochs=epochs,\n",
    "          batch_size=256,\n",
    "          validation_data=(enc_val, dec_val),\n",
    "          verbose=1)"
   ]
  },
  {
   "cell_type": "markdown",
   "id": "central-lesson",
   "metadata": {},
   "source": [
    "#### 이포크 10개 돌렸을때 1.1점 떨어졌습니다. \n",
    "#### 생각보다 학습시간이 빨랐습니다."
   ]
  },
  {
   "cell_type": "code",
   "execution_count": 20,
   "id": "statistical-future",
   "metadata": {},
   "outputs": [],
   "source": [
    "import matplotlib.pyplot as plt"
   ]
  },
  {
   "cell_type": "code",
   "execution_count": 21,
   "id": "decimal-recycling",
   "metadata": {},
   "outputs": [
    {
     "data": {
      "image/png": "[encoded data removed]",
      "text/plain": [
       "<Figure size 864x576 with 2 Axes>"
      ]
     },
     "metadata": {
      "needs_background": "light"
     },
     "output_type": "display_data"
    }
   ],
   "source": [
    " plot_curve(history.epoch, history.history, ['loss', 'val_loss'])"
   ]
  },
  {
   "cell_type": "markdown",
   "id": "structured-nickel",
   "metadata": {},
   "source": [
    "#### 생각보다 EPOCH 0-2까지 갑이 너무 빨리 떨어진다는 점.."
   ]
  },
  {
   "cell_type": "code",
   "execution_count": 22,
   "id": "developmental-demographic",
   "metadata": {},
   "outputs": [],
   "source": [
    "def generate_text(model, tokenizer, init_sentence=\"<start>\", max_len=20):\n",
    "    # 테스트를 위해서 입력받은 init_sentence도 일단 텐서로 변환합니다.\n",
    "    test_input = tokenizer.texts_to_sequences([init_sentence])\n",
    "    test_tensor = tf.convert_to_tensor(test_input, dtype=tf.int64)\n",
    "    end_token = tokenizer.word_index[\"<end>\"]\n",
    "\n",
    "    # 텍스트를 실제로 생성할때는 루프를 돌면서 단어 하나씩 생성해야 합니다. \n",
    "    while True:\n",
    "        predict = model(test_tensor)  # 입력받은 문장의 텐서를 입력합니다. \n",
    "        predict_word = tf.argmax(tf.nn.softmax(predict, axis=-1), axis=-1)[:, -1]   # 우리 모델이 예측한 마지막 단어가 바로 새롭게 생성한 단어가 됩니다. \n",
    "\n",
    "        # 우리 모델이 새롭게 예측한 단어를 입력 문장의 뒤에 붙여 줍니다. \n",
    "        test_tensor = tf.concat([test_tensor, tf.expand_dims(predict_word, axis=0)], axis=-1)\n",
    "\n",
    "        # 우리 모델이 <END>를 예측하지 않았거나, max_len에 도달하지 않았다면  while 루프를 또 돌면서 다음 단어를 예측해야 합니다.\n",
    "        if predict_word.numpy()[0] == end_token: break\n",
    "        if test_tensor.shape[1] >= max_len: break\n",
    "\n",
    "    generated = \"\"\n",
    "    # 생성된 tensor 안에 있는 word index를 tokenizer.index_word 사전을 통해 실제 단어로 하나씩 변환합니다. \n",
    "    for word_index in test_tensor[0].numpy():\n",
    "        generated += tokenizer.index_word[word_index] + \" \"\n",
    "\n",
    "    return generated   # 이것이 최종적으로 모델이 생성한 자연어 문장입니다."
   ]
  },
  {
   "cell_type": "code",
   "execution_count": 24,
   "id": "special-stream",
   "metadata": {},
   "outputs": [
    {
     "data": {
      "text/plain": [
       "'<start> i love you , sir , i ll tell you . <end> '"
      ]
     },
     "execution_count": 24,
     "metadata": {},
     "output_type": "execute_result"
    }
   ],
   "source": [
    "generate_text(model, tokenizer, init_sentence=\"<start> i love\", max_len=20)"
   ]
  },
  {
   "cell_type": "markdown",
   "id": "visible-purple",
   "metadata": {},
   "source": [
    "### RESULT:\n",
    "\n",
    "#### 생각보다 음 NLP는 사람들 의식 하는게 부족하다."
   ]
  },
  {
   "cell_type": "code",
   "execution_count": null,
   "id": "separate-pathology",
   "metadata": {},
   "outputs": [],
   "source": []
  }
 ],
 "metadata": {
  "kernelspec": {
   "display_name": "Python 3",
   "language": "python",
   "name": "python3"
  },
  "language_info": {
   "codemirror_mode": {
    "name": "ipython",
    "version": 3
   },
   "file_extension": ".py",
   "mimetype": "text/x-python",
   "name": "python",
   "nbconvert_exporter": "python",
   "pygments_lexer": "ipython3",
   "version": "3.7.9"
  }
 },
 "nbformat": 4,
 "nbformat_minor": 5
}
